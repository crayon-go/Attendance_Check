{
 "cells": [
  {
   "cell_type": "code",
   "execution_count": 1,
   "metadata": {},
   "outputs": [],
   "source": [
    "import requests\n",
    "import time\n",
    "import json\n",
    "import selenium.webdriver.support.ui as ui\n",
    "from selenium.webdriver.common.keys import Keys\n",
    "import threading\n",
    "import queue\n",
    "import random\n",
    "import datetime\n",
    "import pyperclip\n",
    "\n",
    "from urllib.error import URLError, HTTPError\n",
    "from selenium import webdriver\n",
    "from selenium.webdriver.chrome.options import Options\n",
    "from selenium.webdriver.remote.webelement import WebElement\n",
    "from selenium.webdriver.common.keys import Keys\n",
    "from selenium.webdriver import ActionChains\n",
    "from pprint import pprint\n",
    "from selenium.webdriver.common.alert import Alert\n",
    "from config.site_config import *\n"
   ]
  },
  {
   "cell_type": "code",
   "execution_count": 2,
   "metadata": {},
   "outputs": [],
   "source": [
    "DRIVER_PATH = './config/chromedriver'\n",
    "CHROME_OPTIONS = Options()\n",
    "\n",
    "#driver.implicitly_wait(3)"
   ]
  },
  {
   "cell_type": "code",
   "execution_count": 3,
   "metadata": {},
   "outputs": [],
   "source": [
    "# B몰\n",
    "driver = webdriver.Chrome(executable_path=DRIVER_PATH)\n",
    "driver.maximize_window()\n",
    "driver.get(bmall_dict['url_login'])\n",
    "\n",
    "# 로그인\n",
    "driver.find_element_by_xpath(bmall_dict['cursor']).click()                        # 커서 활성화\n",
    "driver.find_element_by_name(bmall_dict['tag_id']).send_keys(bmall_dict['my_id'])  # ID\n",
    "driver.find_element_by_name(bmall_dict['tag_pw']).send_keys(bmall_dict['my_pw'])  # PW\n",
    "driver.find_element_by_xpath(bmall_dict['click_login']).click()                   # 로그인 클릭\n",
    "\n",
    "# 출석체크 클릭\n",
    "driver.find_element_by_xpath(bmall_dict['click_event']).click()\n",
    "\n",
    "# 팝업창 엔터\n",
    "da = Alert(driver)\n",
    "da.accept()\n",
    "\n",
    "# 종료\n",
    "time.sleep(3)\n",
    "driver.close()"
   ]
  },
  {
   "cell_type": "code",
   "execution_count": 3,
   "metadata": {},
   "outputs": [],
   "source": [
    "# GSSHOP\n",
    "driver = webdriver.Chrome(executable_path=DRIVER_PATH)\n",
    "driver.maximize_window()\n",
    "driver.get(gsshop_dict['url_login'])\n",
    "\n",
    "# 로그인\n",
    "driver.find_element_by_xpath(gsshop_dict['cursor']).click()                         # 커서 활성화\n",
    "driver.find_element_by_name(gsshop_dict['tag_id']).send_keys(gsshop_dict['my_id'])  # ID\n",
    "driver.find_element_by_name(gsshop_dict['tag_pw']).send_keys(gsshop_dict['my_pw'])  # PW\n",
    "driver.find_element_by_xpath(gsshop_dict['click_login']).click()                    # 로그인 클릭\n",
    "\n",
    "# 이벤트 페이지\n",
    "driver.get(gsshop_dict['url_event'])  # 이벤트\n",
    "\n",
    "# 출석체크 클릭\n",
    "driver.find_element_by_xpath(gsshop_dict['click_event']).click()\n",
    "\n",
    "# 종료\n",
    "time.sleep(3)\n",
    "driver.close()"
   ]
  },
  {
   "cell_type": "code",
   "execution_count": 6,
   "metadata": {},
   "outputs": [],
   "source": [
    "# FOLDER\n",
    "driver = webdriver.Chrome(executable_path=DRIVER_PATH)\n",
    "driver.maximize_window()\n",
    "driver.get(folder_dict['url_login'])\n",
    "\n",
    "# 로그인\n",
    "driver.find_element_by_xpath(folder_dict['cursor']).click()                         # 커서 활성화\n",
    "driver.find_element_by_name(folder_dict['tag_id']).send_keys(folder_dict['my_id'])  # ID\n",
    "driver.find_element_by_name(folder_dict['tag_pw']).send_keys(folder_dict['my_pw'])  # PW\n",
    "driver.find_element_by_xpath(folder_dict['click_login']).click()                    # 로그인 클릭\n",
    "\n",
    "# 종료\n",
    "time.sleep(3)\n",
    "driver.close()"
   ]
  },
  {
   "cell_type": "code",
   "execution_count": 3,
   "metadata": {},
   "outputs": [],
   "source": [
    "# 아모레몰\n",
    "driver = webdriver.Chrome(executable_path=DRIVER_PATH)\n",
    "driver.maximize_window()\n",
    "driver.get(amore_dict['url_login'])\n",
    "\n",
    "# 로그인\n",
    "driver.find_element_by_xpath(amore_dict['cursor']).click()                        # 커서 활성화\n",
    "driver.find_element_by_name(amore_dict['tag_id']).send_keys(amore_dict['my_id'])  # ID\n",
    "driver.find_element_by_name(amore_dict['tag_pw']).send_keys(amore_dict['my_pw'])  # PW\n",
    "driver.find_element_by_xpath(amore_dict['click_login']).click()                   # 로그인 클릭\n",
    "\n",
    "# 출석체크부분 다시 확인\n",
    "# driver.find_element_by_xpath(amore_dict['click_event']).click()"
   ]
  },
  {
   "cell_type": "code",
   "execution_count": 3,
   "metadata": {},
   "outputs": [],
   "source": [
    "# 로뎀푸드\n",
    "\n",
    "driver = webdriver.Chrome(executable_path=DRIVER_PATH)\n",
    "driver.maximize_window()\n",
    "driver.get(rodem_dict['url_login'])\n",
    "\n",
    "# 로그인\n",
    "driver.find_element_by_xpath(rodem_dict['cursor']).click()                        # 커서 활성화\n",
    "driver.find_element_by_name(rodem_dict['tag_id']).send_keys(rodem_dict['my_id'])  # ID\n",
    "driver.find_element_by_name(rodem_dict['tag_pw']).send_keys(rodem_dict['my_pw'])  # PW\n",
    "driver.find_element_by_xpath(rodem_dict['click_login']).click()                   # 로그인 클릭\n",
    "\n",
    "# 이벤트 페이지\n",
    "driver.get(rodem_dict['url_event'])\n",
    "\n",
    "# 출석체크 클릭\n",
    "driver.find_element_by_xpath(rodem_dict['click_event']).click()\n",
    "\n",
    "# 팝업창 엔터\n",
    "Alert(driver).accept()\n",
    "\n",
    "# 종료\n",
    "time.sleep(3)\n",
    "driver.close()"
   ]
  }
 ],
 "metadata": {
  "kernelspec": {
   "display_name": "myproject",
   "language": "python",
   "name": "myproject"
  },
  "language_info": {
   "codemirror_mode": {
    "name": "ipython",
    "version": 3
   },
   "file_extension": ".py",
   "mimetype": "text/x-python",
   "name": "python",
   "nbconvert_exporter": "python",
   "pygments_lexer": "ipython3",
   "version": "3.8.5"
  }
 },
 "nbformat": 4,
 "nbformat_minor": 5
}
